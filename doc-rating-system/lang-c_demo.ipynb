{
 "cells": [
  {
   "cell_type": "code",
   "execution_count": null,
   "id": "3e1cdaf9-08c6-4115-bac7-3c0f6125994b",
   "metadata": {},
   "outputs": [],
   "source": [
    "import os\n",
    "from langchain.chat_models import ChatVertexAI\n",
    "from langchain.prompts import ChatPromptTemplate\n",
    "#from langchain.chat_models import ChatOpenAI\n",
    "## Placeholder for API key setup (if using OpenAI)"
   ]
  },
  {
   "cell_type": "code",
   "execution_count": null,
   "id": "25f7e010-eedb-48f3-ac07-c72a17d754ce",
   "metadata": {},
   "outputs": [],
   "source": [
    "\n",
    "chat = ChatVertexAI(model = \"chat-bison\",\n",
    "                   max_output_tokens = 256,\n",
    "                    temperature = 0.0,\n",
    "                    top_p = 0.8,\n",
    "                    top_k = 40,)\n",
    "\n",
    "chat"
   ]
  },
  {
   "cell_type": "code",
   "execution_count": null,
   "id": "6f7d7a84-2490-4ea4-a655-ee2264331bb1",
   "metadata": {},
   "outputs": [],
   "source": [
    "template_string = \"\"\"Berikut yang berada dalam tripel backtick adalah text percakapan antara dokter dan pasien. \\ \n",
    "Harap ringkaskan keluhan pasien. Jika tidak ada keluhan, katakan pasien tidak menyebutkan keluhan. \\\n",
    "Dan simpulkan juga apakah dokter memberikan layanan konsultasi dalam percakapan. Jika tidak, katakan dokter tidak memberi konsultasi. \\\n",
    "Dan juga simpulkan penyakit apa yang di diagnosa dokter untuk pasien. \\\n",
    "text: ```{text}```\n",
    "\"\"\""
   ]
  },
  {
   "cell_type": "code",
   "execution_count": null,
   "id": "80b47ea5-386f-406e-8a54-5d467b70f99c",
   "metadata": {},
   "outputs": [],
   "source": [
    "prompt_template = ChatPromptTemplate.from_template(template_string)"
   ]
  },
  {
   "cell_type": "code",
   "execution_count": null,
   "id": "b04e7830-1c16-49f0-aa8e-7062d457a66e",
   "metadata": {},
   "outputs": [],
   "source": [
    "prompt_template.messages[0].prompt"
   ]
  },
  {
   "cell_type": "code",
   "execution_count": null,
   "id": "87c0820b-ef92-4c03-903e-4166e0cbfbf2",
   "metadata": {},
   "outputs": [],
   "source": [
    "prompt_template.messages[0].prompt.input_variables"
   ]
  },
  {
   "cell_type": "code",
   "execution_count": null,
   "id": "37da9ee8-b11a-4ac1-a825-6bc9b4248aeb",
   "metadata": {},
   "outputs": [],
   "source": [
    "percakapan = \"\"\"\n",
    "Pasien: Dok, saya sudah batuk 3 hari ini dan hidung tersumbat  \\\n",
    "Dokter: Apakah ada demam juga?  \\\n",
    "Pasien: Sedikit, kemarin sempat 37,8  \\\n",
    "Dokter: Baik, saya akan resepkan obat batuk dan antihistamin ya  \\\n",
    "Pasien: Boleh minum paracetamol juga, Dok?  \\\n",
    "Dokter: Boleh, 3x1 tablet jika masih demam  \\\n",
    "\n",
    "\"\"\""
   ]
  },
  {
   "cell_type": "code",
   "execution_count": null,
   "id": "c9a5d768-80ac-4d3c-b5c3-1e0d5bfbbd2d",
   "metadata": {},
   "outputs": [],
   "source": [
    "konsultasi = \"\"\"\n",
    "Pasien: sore \\ \n",
    "Dokter: Catatan Dari Dokter  Resume :    Diagnosis :    Saran :    Dengan demikian sesi konsultasi ini telah berakhir, terima kasih.. \\\n",
    "\"\"\"\n"
   ]
  },
  {
   "cell_type": "code",
   "execution_count": null,
   "id": "6f6dadec-5ec4-4dcb-a7e5-ba4d1f5c73b0",
   "metadata": {},
   "outputs": [],
   "source": [
    "customer_messages = prompt_template.format_messages(text=percakapan)"
   ]
  },
  {
   "cell_type": "code",
   "execution_count": null,
   "id": "98a25645-3e5a-4a09-b646-8a83d80640a8",
   "metadata": {},
   "outputs": [],
   "source": [
    "customer_messages = prompt_template.format_messages(text=konsultasi)"
   ]
  },
  {
   "cell_type": "code",
   "execution_count": null,
   "id": "7c544d40-757a-4773-b276-9216cc7a4bc9",
   "metadata": {},
   "outputs": [],
   "source": [
    "customer_response = chat(customer_messages)"
   ]
  },
  {
   "cell_type": "markdown",
   "id": "4ce1f706-abc6-43df-8308-47f6259768a9",
   "metadata": {},
   "source": [
    "### RESPON SCHEMA\n",
    "\n",
    "Agar data lebih mudah disimpan dalam database, maka dibutuhkan respon dalam bentuk data terstruktur. Untuk itu digunakan fasilitas langchain untuk mendapatkannya."
   ]
  },
  {
   "cell_type": "code",
   "execution_count": null,
   "id": "24b5950b-cd74-4647-bd2b-aa8e264b2a5d",
   "metadata": {},
   "outputs": [],
   "source": [
    "from langchain.output_parsers import ResponseSchema\n",
    "from langchain.output_parsers import StructuredOutputParser"
   ]
  },
  {
   "cell_type": "code",
   "execution_count": null,
   "id": "03c84277-c8ff-446c-a53b-ba601c201c93",
   "metadata": {},
   "outputs": [],
   "source": [
    "keluhan_schema = ResponseSchema(name = \"keluhan\", \n",
    "                                description = \"Apakah penyakit yang dikeluhkan pasien? Buat ringkasannya. Jika tidak ada, katakan tidak ada keluhan.\")\n",
    "\n",
    "konsultasi_schema = ResponseSchema(name = \"konsultasi\",\n",
    "                                   description = \"Apakah dokter memberikan konsultasi kepada pasien? Jika ya, jawab True. Jika tidak, jawab False\")\n",
    "\n",
    "diagnosa_schema = ResponseSchema(name=\"diagnosa\",\n",
    "                                 description = \"Apa diagnosa / kesimpulan dokter untuk penyakit pasien. Jika ada, ringkaskan. Jika tidak ada, jawab tidak ada diagnosa\")\n",
    "\n",
    "response_schema = [keluhan_schema, konsultasi_schema, diagnosa_schema]"
   ]
  },
  {
   "cell_type": "code",
   "execution_count": null,
   "id": "e62246a5-f694-42d8-99db-e8a5b06d7453",
   "metadata": {},
   "outputs": [],
   "source": [
    "output_parser = StructuredOutputParser.from_response_schemas(response_schema)"
   ]
  },
  {
   "cell_type": "code",
   "execution_count": null,
   "id": "8cad68cc-64ce-4fac-9d43-979289b7e454",
   "metadata": {},
   "outputs": [],
   "source": [
    "format_instructions = output_parser.get_format_instructions()"
   ]
  },
  {
   "cell_type": "code",
   "execution_count": null,
   "id": "f8ad3879-29a4-4656-8607-d189fc37d2c7",
   "metadata": {},
   "outputs": [],
   "source": [
    "print(format_instructions)"
   ]
  },
  {
   "cell_type": "code",
   "execution_count": null,
   "id": "7efee873-0575-4821-b31e-54fa8f341619",
   "metadata": {},
   "outputs": [],
   "source": [
    "instruction_template = \"\"\" Untuk text percakapan antara dokter dan pasiennya, harap ambil informasi berikut:\n",
    "\n",
    "keluhan: Apakah penyakit yang dikeluhkan pasien? Buat ringkasannya. Jika tidak ada, katakan tidak ada keluhan.\n",
    "\n",
    "konsultasi: Apakah dokter memberikan konsultasi kepada pasien? Jika ya, jawab True. Jika tidak, jawab False\n",
    "\n",
    "diagnosa: Apa diagnosa / kesimpulan dokter untuk penyakit pasien. Jika ada, ringkaskan. Jika tidak ada, jawab tidak ada diagnosa\n",
    "\n",
    "text: {text}\n",
    "\n",
    "{format_instruction}\n",
    "\"\"\"\n"
   ]
  },
  {
   "cell_type": "code",
   "execution_count": null,
   "id": "ac6df978-fefe-4d76-be45-b3c139548768",
   "metadata": {},
   "outputs": [],
   "source": [
    "the_prompt = ChatPromptTemplate.from_template(template=instruction_template)\n",
    "\n",
    "messages = the_prompt.format_messages(text=percakapan,format_instruction=format_instructions)"
   ]
  },
  {
   "cell_type": "code",
   "execution_count": null,
   "id": "b3ddf091-6dde-4114-b0db-fe604040d5d4",
   "metadata": {},
   "outputs": [],
   "source": [
    "the_response = chat(messages)"
   ]
  },
  {
   "cell_type": "code",
   "execution_count": null,
   "id": "1885a0c9-e4ae-4976-82ef-bba77b33cbae",
   "metadata": {},
   "outputs": [],
   "source": [
    "print(the_response.content)"
   ]
  },
  {
   "cell_type": "code",
   "execution_count": null,
   "id": "a95f0172-2db0-4a0c-bace-f7a915c4a795",
   "metadata": {},
   "outputs": [],
   "source": [
    "output_dict = output_parser.parse(the_response.content)\n",
    "output_dict"
   ]
  },
  {
   "cell_type": "code",
   "execution_count": null,
   "id": "42382e18-b5fc-4143-be76-68b06d5acb99",
   "metadata": {},
   "outputs": [],
   "source": [
    "output_dict.get(\"diagnosa\")"
   ]
  },
  {
   "cell_type": "code",
   "execution_count": null,
   "id": "9f4f5342-a60b-402f-900b-a7c800c2b11d",
   "metadata": {},
   "outputs": [],
   "source": []
  }
 ],
 "metadata": {
  "kernelspec": {
   "display_name": "Python 3 (ipykernel)",
   "language": "python",
   "name": "python3"
  },
  "language_info": {
   "codemirror_mode": {
    "name": "ipython",
    "version": 3
   },
   "file_extension": ".py",
   "mimetype": "text/x-python",
   "name": "python",
   "nbconvert_exporter": "python",
   "pygments_lexer": "ipython3",
   "version": "3.9.6"
  }
 },
 "nbformat": 4,
 "nbformat_minor": 5
}
